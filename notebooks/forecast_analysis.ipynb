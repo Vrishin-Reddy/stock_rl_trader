{
 "cells": [
  {
   "cell_type": "code",
   "execution_count": null,
   "id": "8b5ca6b1",
   "metadata": {},
   "outputs": [],
   "source": [
    "# imports\n",
    "import pandas as pd\n",
    "import joblib\n",
    "import matplotlib.pyplot as plt\n",
    "from src.forecast.xgboost_forecast import run_forecast\n",
    "from src.visualizations.plot_forecast import plot_forecast\n"
   ]
  },
  {
   "cell_type": "code",
   "execution_count": null,
   "id": "436dcf5d",
   "metadata": {},
   "outputs": [],
   "source": [
    "# Load stock data\n",
    "data = pd.read_csv(\"data/AAPL.csv\", parse_dates=['Date'])\n",
    "data.set_index('Date', inplace=True)\n",
    "data.tail()"
   ]
  },
  {
   "cell_type": "code",
   "execution_count": null,
   "id": "8b82b987",
   "metadata": {},
   "outputs": [],
   "source": [
    "# Run forecast\n",
    "model, X_test, y_test, y_pred = run_forecast(\"AAPL\", return_results=True)"
   ]
  },
  {
   "cell_type": "code",
   "execution_count": null,
   "id": "3da7f7fc",
   "metadata": {},
   "outputs": [],
   "source": [
    "# Visualize forecast\n",
    "plot_forecast(y_test.index, y_test, y_pred, ticker=\"AAPL\")\n",
    "plt.title(\"AAPL Forecast vs Actual\")\n",
    "plt.show()\n"
   ]
  },
  {
   "cell_type": "code",
   "execution_count": null,
   "id": "921d596d",
   "metadata": {},
   "outputs": [],
   "source": [
    "# Save Model\n",
    "joblib.dump(model, \"models/xgboost_AAPL.pkl\")"
   ]
  },
  {
   "cell_type": "code",
   "execution_count": null,
   "id": "58425ff0",
   "metadata": {},
   "outputs": [],
   "source": [
    "# Evaluate forecast\n",
    "from src.forecast.metrics import evaluate_forecast\n",
    "results = evaluate_forecast(y_test, y_pred)\n",
    "print(\"Forecast Metrics:\\n\", results)"
   ]
  },
  {
   "cell_type": "code",
   "execution_count": null,
   "id": "731cd3ff",
   "metadata": {},
   "outputs": [],
   "source": []
  },
  {
   "cell_type": "code",
   "execution_count": null,
   "id": "7b15c673",
   "metadata": {},
   "outputs": [],
   "source": []
  },
  {
   "cell_type": "code",
   "execution_count": null,
   "id": "37baee1a",
   "metadata": {},
   "outputs": [],
   "source": []
  }
 ],
 "metadata": {
  "language_info": {
   "name": "python"
  }
 },
 "nbformat": 4,
 "nbformat_minor": 5
}
