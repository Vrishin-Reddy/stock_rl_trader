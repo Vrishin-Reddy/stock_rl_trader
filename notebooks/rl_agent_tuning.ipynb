{
 "cells": [
  {
   "cell_type": "code",
   "execution_count": null,
   "id": "8050e405",
   "metadata": {},
   "outputs": [],
   "source": [
    "# Imports\n",
    "import pandas as pd\n",
    "from stable_baselines3 import PPO\n",
    "from stable_baselines3.common.vec_env import DummyVecEnv\n",
    "from src.rl_env.trading_env import TradingEnv\n",
    "from src.agents.evaluate import evaluate_agent\n"
   ]
  },
  {
   "cell_type": "code",
   "execution_count": null,
   "id": "59cfe22c",
   "metadata": {},
   "outputs": [],
   "source": [
    "# Load Data\n",
    "data = pd.read_csv(\"data/AAPL.csv\", parse_dates=['Date'])"
   ]
  },
  {
   "cell_type": "code",
   "execution_count": null,
   "id": "25f37375",
   "metadata": {},
   "outputs": [],
   "source": [
    "# Create environment\n",
    "env = DummyVecEnv([lambda: TradingEnv(data, ticker=\"AAPL\")])"
   ]
  },
  {
   "cell_type": "code",
   "execution_count": null,
   "id": "6f85866e",
   "metadata": {},
   "outputs": [],
   "source": [
    "# Tune PPO - basic config\n",
    "total_timesteps = 10000\n",
    "model = PPO(\"MlpPolicy\", env, verbose=1)\n",
    "model.learn(total_timesteps=total_timesteps)\n",
    "model.save(\"models/ppo_AAPL\")"
   ]
  },
  {
   "cell_type": "code",
   "execution_count": null,
   "id": "6fbe25ac",
   "metadata": {},
   "outputs": [],
   "source": [
    "# Evaluate agent\n",
    "summary_df = evaluate_agent(\"models/ppo_AAPL.zip\", data, \"AAPL\")\n",
    "display(summary_df.tail())\n"
   ]
  },
  {
   "cell_type": "code",
   "execution_count": null,
   "id": "5186d80e",
   "metadata": {},
   "outputs": [],
   "source": [
    "# Plot trades\n",
    "from src.visualizations.plot_trades import plot_trades\n",
    "plot_trades(summary_df, title=\"RL Agent Trades - AAPL\")\n"
   ]
  },
  {
   "cell_type": "code",
   "execution_count": null,
   "id": "0247de6a",
   "metadata": {},
   "outputs": [],
   "source": []
  }
 ],
 "metadata": {
  "language_info": {
   "name": "python"
  }
 },
 "nbformat": 4,
 "nbformat_minor": 5
}
